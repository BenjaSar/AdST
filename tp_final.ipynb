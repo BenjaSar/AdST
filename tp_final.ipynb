{
 "cells": [
  {
   "cell_type": "markdown",
   "id": "82d22341",
   "metadata": {},
   "source": [
    "### Import libraries"
   ]
  },
  {
   "cell_type": "code",
   "execution_count": 1,
   "id": "feda5b27",
   "metadata": {},
   "outputs": [],
   "source": [
    "import pandas as pd\n",
    "import numpy as np \n",
    "import matplotlib.pyplot as plt \n",
    "import seaborn as sns\n",
    "sns.set()"
   ]
  },
  {
   "cell_type": "markdown",
   "id": "b6f10c66",
   "metadata": {},
   "source": [
    "#### Import components of statsmodels library"
   ]
  },
  {
   "cell_type": "code",
   "execution_count": 2,
   "id": "96f62af7",
   "metadata": {},
   "outputs": [],
   "source": [
    "import statsmodels.graphics.tsaplots as sgt \n",
    "import statsmodels.tsa.stattools as sts \n",
    "import statsmodels.graphics.tsaplots as sgt\n",
    "from statsmodels.tsa.seasonal import seasonal_decompose\n",
    "from statsmodels.graphics.tsaplots import plot_predict\n",
    "from statsmodels.tsa.arima.model import ARIMA\n",
    "from statsmodels.tsa.statespace.sarimax import SARIMAX\n",
    "from statsmodels.graphics.tsaplots import plot_acf, plot_pacf\n"
   ]
  },
  {
   "cell_type": "markdown",
   "id": "ba224362",
   "metadata": {},
   "source": [
    "### Load the dataset"
   ]
  },
  {
   "cell_type": "code",
   "execution_count": 3,
   "id": "7da5fd48",
   "metadata": {},
   "outputs": [],
   "source": [
    "df_ts = pd.read_csv(\"uspopulation.csv\", parse_dates=[\"DATE\"], index_col='DATE')"
   ]
  },
  {
   "cell_type": "code",
   "execution_count": 4,
   "id": "a9d6fde3",
   "metadata": {},
   "outputs": [
    {
     "data": {
      "text/html": [
       "<div>\n",
       "<style scoped>\n",
       "    .dataframe tbody tr th:only-of-type {\n",
       "        vertical-align: middle;\n",
       "    }\n",
       "\n",
       "    .dataframe tbody tr th {\n",
       "        vertical-align: top;\n",
       "    }\n",
       "\n",
       "    .dataframe thead th {\n",
       "        text-align: right;\n",
       "    }\n",
       "</style>\n",
       "<table border=\"1\" class=\"dataframe\">\n",
       "  <thead>\n",
       "    <tr style=\"text-align: right;\">\n",
       "      <th></th>\n",
       "      <th>PopEst</th>\n",
       "    </tr>\n",
       "    <tr>\n",
       "      <th>DATE</th>\n",
       "      <th></th>\n",
       "    </tr>\n",
       "  </thead>\n",
       "  <tbody>\n",
       "    <tr>\n",
       "      <th>2011-01-01</th>\n",
       "      <td>311037</td>\n",
       "    </tr>\n",
       "    <tr>\n",
       "      <th>2011-02-01</th>\n",
       "      <td>311189</td>\n",
       "    </tr>\n",
       "    <tr>\n",
       "      <th>2011-03-01</th>\n",
       "      <td>311351</td>\n",
       "    </tr>\n",
       "    <tr>\n",
       "      <th>2011-04-01</th>\n",
       "      <td>311522</td>\n",
       "    </tr>\n",
       "    <tr>\n",
       "      <th>2011-05-01</th>\n",
       "      <td>311699</td>\n",
       "    </tr>\n",
       "  </tbody>\n",
       "</table>\n",
       "</div>"
      ],
      "text/plain": [
       "            PopEst\n",
       "DATE              \n",
       "2011-01-01  311037\n",
       "2011-02-01  311189\n",
       "2011-03-01  311351\n",
       "2011-04-01  311522\n",
       "2011-05-01  311699"
      ]
     },
     "execution_count": 4,
     "metadata": {},
     "output_type": "execute_result"
    }
   ],
   "source": [
    "df_ts.head()"
   ]
  },
  {
   "cell_type": "code",
   "execution_count": 5,
   "id": "c5c153e3",
   "metadata": {},
   "outputs": [
    {
     "data": {
      "text/html": [
       "<div>\n",
       "<style scoped>\n",
       "    .dataframe tbody tr th:only-of-type {\n",
       "        vertical-align: middle;\n",
       "    }\n",
       "\n",
       "    .dataframe tbody tr th {\n",
       "        vertical-align: top;\n",
       "    }\n",
       "\n",
       "    .dataframe thead th {\n",
       "        text-align: right;\n",
       "    }\n",
       "</style>\n",
       "<table border=\"1\" class=\"dataframe\">\n",
       "  <thead>\n",
       "    <tr style=\"text-align: right;\">\n",
       "      <th></th>\n",
       "      <th>PopEst</th>\n",
       "    </tr>\n",
       "    <tr>\n",
       "      <th>DATE</th>\n",
       "      <th></th>\n",
       "    </tr>\n",
       "  </thead>\n",
       "  <tbody>\n",
       "    <tr>\n",
       "      <th>2018-03-01</th>\n",
       "      <td>326812</td>\n",
       "    </tr>\n",
       "    <tr>\n",
       "      <th>2018-04-01</th>\n",
       "      <td>326968</td>\n",
       "    </tr>\n",
       "    <tr>\n",
       "      <th>2018-05-01</th>\n",
       "      <td>327134</td>\n",
       "    </tr>\n",
       "    <tr>\n",
       "      <th>2018-06-01</th>\n",
       "      <td>327312</td>\n",
       "    </tr>\n",
       "    <tr>\n",
       "      <th>2018-07-01</th>\n",
       "      <td>327502</td>\n",
       "    </tr>\n",
       "    <tr>\n",
       "      <th>2018-08-01</th>\n",
       "      <td>327698</td>\n",
       "    </tr>\n",
       "    <tr>\n",
       "      <th>2018-09-01</th>\n",
       "      <td>327893</td>\n",
       "    </tr>\n",
       "    <tr>\n",
       "      <th>2018-10-01</th>\n",
       "      <td>328077</td>\n",
       "    </tr>\n",
       "    <tr>\n",
       "      <th>2018-11-01</th>\n",
       "      <td>328241</td>\n",
       "    </tr>\n",
       "    <tr>\n",
       "      <th>2018-12-01</th>\n",
       "      <td>328393</td>\n",
       "    </tr>\n",
       "  </tbody>\n",
       "</table>\n",
       "</div>"
      ],
      "text/plain": [
       "            PopEst\n",
       "DATE              \n",
       "2018-03-01  326812\n",
       "2018-04-01  326968\n",
       "2018-05-01  327134\n",
       "2018-06-01  327312\n",
       "2018-07-01  327502\n",
       "2018-08-01  327698\n",
       "2018-09-01  327893\n",
       "2018-10-01  328077\n",
       "2018-11-01  328241\n",
       "2018-12-01  328393"
      ]
     },
     "execution_count": 5,
     "metadata": {},
     "output_type": "execute_result"
    }
   ],
   "source": [
    "df_ts.tail(n=10)"
   ]
  },
  {
   "cell_type": "code",
   "execution_count": 6,
   "id": "dd90c59a",
   "metadata": {},
   "outputs": [
    {
     "name": "stdout",
     "output_type": "stream",
     "text": [
      "<class 'pandas.core.frame.DataFrame'>\n",
      "DatetimeIndex: 96 entries, 2011-01-01 to 2018-12-01\n",
      "Data columns (total 1 columns):\n",
      " #   Column  Non-Null Count  Dtype\n",
      "---  ------  --------------  -----\n",
      " 0   PopEst  96 non-null     int64\n",
      "dtypes: int64(1)\n",
      "memory usage: 1.5 KB\n"
     ]
    }
   ],
   "source": [
    "df_ts.info()"
   ]
  },
  {
   "cell_type": "markdown",
   "id": "68794bbd",
   "metadata": {},
   "source": [
    "#### Understanding the time frequency"
   ]
  },
  {
   "cell_type": "code",
   "execution_count": 7,
   "id": "407e7326",
   "metadata": {},
   "outputs": [
    {
     "data": {
      "text/plain": [
       "(96, 1)"
      ]
     },
     "execution_count": 7,
     "metadata": {},
     "output_type": "execute_result"
    }
   ],
   "source": [
    "df_ts.shape"
   ]
  },
  {
   "cell_type": "code",
   "execution_count": 8,
   "id": "52cd62f7",
   "metadata": {},
   "outputs": [
    {
     "data": {
      "text/plain": [
       "Index(['PopEst'], dtype='object')"
      ]
     },
     "execution_count": 8,
     "metadata": {},
     "output_type": "execute_result"
    }
   ],
   "source": [
    "df_ts.columns"
   ]
  },
  {
   "cell_type": "code",
   "execution_count": 9,
   "id": "18af37fd",
   "metadata": {},
   "outputs": [
    {
     "data": {
      "text/html": [
       "<div>\n",
       "<style scoped>\n",
       "    .dataframe tbody tr th:only-of-type {\n",
       "        vertical-align: middle;\n",
       "    }\n",
       "\n",
       "    .dataframe tbody tr th {\n",
       "        vertical-align: top;\n",
       "    }\n",
       "\n",
       "    .dataframe thead th {\n",
       "        text-align: right;\n",
       "    }\n",
       "</style>\n",
       "<table border=\"1\" class=\"dataframe\">\n",
       "  <thead>\n",
       "    <tr style=\"text-align: right;\">\n",
       "      <th></th>\n",
       "      <th>PopEst</th>\n",
       "    </tr>\n",
       "  </thead>\n",
       "  <tbody>\n",
       "    <tr>\n",
       "      <th>count</th>\n",
       "      <td>96.000000</td>\n",
       "    </tr>\n",
       "    <tr>\n",
       "      <th>mean</th>\n",
       "      <td>319826.760417</td>\n",
       "    </tr>\n",
       "    <tr>\n",
       "      <th>std</th>\n",
       "      <td>5159.523729</td>\n",
       "    </tr>\n",
       "    <tr>\n",
       "      <th>min</th>\n",
       "      <td>311037.000000</td>\n",
       "    </tr>\n",
       "    <tr>\n",
       "      <th>25%</th>\n",
       "      <td>315419.000000</td>\n",
       "    </tr>\n",
       "    <tr>\n",
       "      <th>50%</th>\n",
       "      <td>319919.500000</td>\n",
       "    </tr>\n",
       "    <tr>\n",
       "      <th>75%</th>\n",
       "      <td>324395.250000</td>\n",
       "    </tr>\n",
       "    <tr>\n",
       "      <th>max</th>\n",
       "      <td>328393.000000</td>\n",
       "    </tr>\n",
       "  </tbody>\n",
       "</table>\n",
       "</div>"
      ],
      "text/plain": [
       "              PopEst\n",
       "count      96.000000\n",
       "mean   319826.760417\n",
       "std      5159.523729\n",
       "min    311037.000000\n",
       "25%    315419.000000\n",
       "50%    319919.500000\n",
       "75%    324395.250000\n",
       "max    328393.000000"
      ]
     },
     "execution_count": 9,
     "metadata": {},
     "output_type": "execute_result"
    }
   ],
   "source": [
    "df_ts.describe()"
   ]
  },
  {
   "cell_type": "code",
   "execution_count": 10,
   "id": "8161eb52",
   "metadata": {},
   "outputs": [
    {
     "data": {
      "text/plain": [
       "DATE\n",
       "31 days    55\n",
       "30 days    32\n",
       "28 days     6\n",
       "29 days     2\n",
       "Name: count, dtype: int64"
      ]
     },
     "execution_count": 10,
     "metadata": {},
     "output_type": "execute_result"
    }
   ],
   "source": [
    "df_ts.index.to_series().diff().value_counts()"
   ]
  },
  {
   "cell_type": "code",
   "execution_count": 11,
   "id": "4fc48790",
   "metadata": {},
   "outputs": [
    {
     "name": "stdout",
     "output_type": "stream",
     "text": [
      "PopEst    0\n",
      "dtype: int64\n"
     ]
    }
   ],
   "source": [
    "print(df_ts.isna().sum())"
   ]
  },
  {
   "cell_type": "code",
   "execution_count": 12,
   "id": "dd3906bb",
   "metadata": {},
   "outputs": [],
   "source": [
    "### Check for duplicates values\n",
    "\n",
    "df = df_ts[~df_ts.index.duplicated(keep='first')]"
   ]
  },
  {
   "cell_type": "markdown",
   "id": "ae5350b5",
   "metadata": {},
   "source": [
    "### Handle outliers"
   ]
  },
  {
   "cell_type": "code",
   "execution_count": 13,
   "id": "1bb9b287",
   "metadata": {},
   "outputs": [
    {
     "data": {
      "image/png": "[encoded data removed]",
      "text/plain": [
       "<Figure size 640x480 with 1 Axes>"
      ]
     },
     "metadata": {},
     "output_type": "display_data"
    }
   ],
   "source": [
    "df.plot()\n",
    "plt.show()"
   ]
  },
  {
   "cell_type": "code",
   "execution_count": 14,
   "id": "b31358b1",
   "metadata": {},
   "outputs": [],
   "source": [
    "### Remove outliers\n",
    "from scipy import stats\n",
    "df['zscore'] = stats.zscore(df['PopEst'])\n",
    "df_mod = df[df['zscore'].abs() < 3]"
   ]
  },
  {
   "cell_type": "code",
   "execution_count": 15,
   "id": "fc599b7f",
   "metadata": {},
   "outputs": [
    {
     "data": {
      "text/html": [
       "<div>\n",
       "<style scoped>\n",
       "    .dataframe tbody tr th:only-of-type {\n",
       "        vertical-align: middle;\n",
       "    }\n",
       "\n",
       "    .dataframe tbody tr th {\n",
       "        vertical-align: top;\n",
       "    }\n",
       "\n",
       "    .dataframe thead th {\n",
       "        text-align: right;\n",
       "    }\n",
       "</style>\n",
       "<table border=\"1\" class=\"dataframe\">\n",
       "  <thead>\n",
       "    <tr style=\"text-align: right;\">\n",
       "      <th></th>\n",
       "      <th>PopEst</th>\n",
       "      <th>zscore</th>\n",
       "    </tr>\n",
       "    <tr>\n",
       "      <th>DATE</th>\n",
       "      <th></th>\n",
       "      <th></th>\n",
       "    </tr>\n",
       "  </thead>\n",
       "  <tbody>\n",
       "    <tr>\n",
       "      <th>2011-01-01</th>\n",
       "      <td>311037</td>\n",
       "      <td>-1.712542</td>\n",
       "    </tr>\n",
       "    <tr>\n",
       "      <th>2011-02-01</th>\n",
       "      <td>311189</td>\n",
       "      <td>-1.682927</td>\n",
       "    </tr>\n",
       "    <tr>\n",
       "      <th>2011-03-01</th>\n",
       "      <td>311351</td>\n",
       "      <td>-1.651364</td>\n",
       "    </tr>\n",
       "    <tr>\n",
       "      <th>2011-04-01</th>\n",
       "      <td>311522</td>\n",
       "      <td>-1.618048</td>\n",
       "    </tr>\n",
       "    <tr>\n",
       "      <th>2011-05-01</th>\n",
       "      <td>311699</td>\n",
       "      <td>-1.583562</td>\n",
       "    </tr>\n",
       "  </tbody>\n",
       "</table>\n",
       "</div>"
      ],
      "text/plain": [
       "            PopEst    zscore\n",
       "DATE                        \n",
       "2011-01-01  311037 -1.712542\n",
       "2011-02-01  311189 -1.682927\n",
       "2011-03-01  311351 -1.651364\n",
       "2011-04-01  311522 -1.618048\n",
       "2011-05-01  311699 -1.583562"
      ]
     },
     "execution_count": 15,
     "metadata": {},
     "output_type": "execute_result"
    }
   ],
   "source": [
    "df_mod.head()"
   ]
  },
  {
   "cell_type": "code",
   "execution_count": 16,
   "id": "c485f427",
   "metadata": {},
   "outputs": [
    {
     "data": {
      "image/png": "[encoded data removed]",
      "text/plain": [
       "<Figure size 640x480 with 4 Axes>"
      ]
     },
     "metadata": {},
     "output_type": "display_data"
    }
   ],
   "source": [
    "\n",
    "decomposition = seasonal_decompose(df_mod['PopEst'], model='additive')\n",
    "decomposition.plot()\n",
    "plt.show()\n"
   ]
  },
  {
   "cell_type": "code",
   "execution_count": 17,
   "id": "fe443052",
   "metadata": {},
   "outputs": [],
   "source": [
    "### Check the stationary of model\n",
    "from statsmodels.tsa.stattools import adfuller\n",
    "\n",
    "def adf_test(series, name='Population estimation dataset'):\n",
    "    result = adfuller(series.dropna())\n",
    "    print(f\"ADF test for {name}\")\n",
    "    print(\"ADF Statistic:\", result[0])\n",
    "    print(\"p-value:\", result[1])\n",
    "    print(\"Critical Values:\", result[4])\n",
    "    if result[1] <= 0.05:\n",
    "        print(\"✅ Stationary (reject H0)\")\n",
    "    else:\n",
    "        print(\"❌ Not stationary (fail to reject H0)\")"
   ]
  },
  {
   "cell_type": "code",
   "execution_count": 18,
   "id": "22790dff",
   "metadata": {},
   "outputs": [
    {
     "name": "stdout",
     "output_type": "stream",
     "text": [
      "ADF test for Population estimation dataset\n",
      "ADF Statistic: -1.392154706206933\n",
      "p-value: 0.5860314182487191\n",
      "Critical Values: {'1%': -3.5117123057187376, '5%': -2.8970475206326833, '10%': -2.5857126912469153}\n",
      "❌ Not stationary (fail to reject H0)\n",
      "ADF test for Population estimation dataset\n",
      "ADF Statistic: -1.07254051376996\n",
      "p-value: 0.7258973082379578\n",
      "Critical Values: {'1%': -3.512738056978279, '5%': -2.8974898650628984, '10%': -2.585948732897085}\n",
      "❌ Not stationary (fail to reject H0)\n",
      "ADF test for Population estimation dataset\n",
      "ADF Statistic: -1.2737428744265755\n",
      "p-value: 0.6410977508891773\n",
      "Critical Values: {'1%': -3.5148692050781247, '5%': -2.8984085156250003, '10%': -2.58643890625}\n",
      "❌ Not stationary (fail to reject H0)\n"
     ]
    }
   ],
   "source": [
    "adf_test(df_mod['PopEst'])  # original data\n",
    "adf_test(df_mod['PopEst'].diff())  # first differencing\n",
    "adf_test(df['PopEst'].diff(12))  # seasonal differencing"
   ]
  },
  {
   "cell_type": "code",
   "execution_count": 19,
   "id": "9c6496bf",
   "metadata": {},
   "outputs": [],
   "source": [
    "# Implement the log transform\n",
    "df_mod_log = df_mod.copy()\n",
    "df_mod_log['log_PopEst'] = np.log(df_mod_log['PopEst']).diff().dropna()"
   ]
  },
  {
   "cell_type": "code",
   "execution_count": 20,
   "id": "a897ba75",
   "metadata": {},
   "outputs": [
    {
     "name": "stdout",
     "output_type": "stream",
     "text": [
      "ADF test for Population estimation dataset\n",
      "ADF Statistic: -4.567460899089078\n",
      "p-value: 0.00014823315796815242\n",
      "Critical Values: {'1%': -3.5274258688046647, '5%': -2.903810816326531, '10%': -2.5893204081632653}\n",
      "✅ Stationary (reject H0)\n"
     ]
    }
   ],
   "source": [
    "# Check newly the statinary of the \n",
    "adf_test(df_mod_log['log_PopEst'].diff().diff(12))  # original data\n",
    "#adf_test(df_mod_log['log_PopEst'].diff())  # first differencing\n",
    "#adf_test(df['PopEst'].diff(12))  # seasonal differencing"
   ]
  },
  {
   "cell_type": "code",
   "execution_count": 21,
   "id": "d2a23a47",
   "metadata": {},
   "outputs": [
    {
     "data": {
      "text/plain": [
       "(-1.392154706206933,\n",
       " 0.5860314182487191,\n",
       " 12,\n",
       " 83,\n",
       " {'1%': -3.5117123057187376,\n",
       "  '5%': -2.8970475206326833,\n",
       "  '10%': -2.5857126912469153},\n",
       " 489.04918195112333)"
      ]
     },
     "execution_count": 21,
     "metadata": {},
     "output_type": "execute_result"
    }
   ],
   "source": [
    "sts.adfuller(df_mod['PopEst'])"
   ]
  },
  {
   "cell_type": "code",
   "execution_count": 22,
   "id": "aa91da20",
   "metadata": {},
   "outputs": [
    {
     "data": {
      "text/plain": [
       "(-4.567460899089078,\n",
       " 0.00014823315796815242,\n",
       " 11,\n",
       " 70,\n",
       " {'1%': -3.5274258688046647,\n",
       "  '5%': -2.903810816326531,\n",
       "  '10%': -2.5893204081632653},\n",
       " -1363.1685223929014)"
      ]
     },
     "execution_count": 22,
     "metadata": {},
     "output_type": "execute_result"
    }
   ],
   "source": [
    "sts.adfuller(df_mod_log['log_PopEst'].diff().diff(12).dropna())"
   ]
  },
  {
   "cell_type": "markdown",
   "id": "5390d380",
   "metadata": {},
   "source": [
    "### Plot PACF and ACF"
   ]
  },
  {
   "cell_type": "code",
   "execution_count": 23,
   "id": "39d6d70b",
   "metadata": {},
   "outputs": [],
   "source": [
    "df_mod['diff'] = df_mod['PopEst'].diff()"
   ]
  },
  {
   "cell_type": "code",
   "execution_count": 24,
   "id": "045be306",
   "metadata": {},
   "outputs": [
    {
     "data": {
      "image/png": "[encoded data removed]",
      "text/plain": [
       "<Figure size 1200x800 with 2 Axes>"
      ]
     },
     "metadata": {},
     "output_type": "display_data"
    }
   ],
   "source": [
    "## Plot acf and pacf\n",
    "## Based on: https://towardsdatascience.com/interpreting-acf-and-pacf-plots-for-time-series-forecasting-af0d6db4061c/\n",
    "fig, ax = plt.subplots(2, 1, figsize=(12, 8))\n",
    "\n",
    "# ACF\n",
    "plot_acf(df_mod['diff'].dropna(), ax=ax[0], lags=30)\n",
    "ax[0].set_title(\"ACF - Monthly Differenced Population\")\n",
    "\n",
    "# PACF plot\n",
    "plot_pacf(df_mod['diff'].dropna(), ax=ax[1], lags=30, method='ywm')\n",
    "ax[1].set_title(\"PACF - Monthly Differenced Population\")\n",
    "\n",
    "plt.tight_layout()\n",
    "plt.show()"
   ]
  },
  {
   "cell_type": "markdown",
   "id": "0f8a4000",
   "metadata": {},
   "source": [
    "### Defining the AR, I, MA terms\n",
    "\n",
    "Based on the PACF plot, there is a significant spike at lag 2, which suggests the presence of a non-seasonal autoregressive term of order 2 (AR(2)). Additionally, a noticeable spike at the seasonal lag (e.g., lag 12) indicates the presence of a seasonal autoregressive term of order 1 (SAR(1)). This points to an AR(2) + SAR(1) structure for the autoregressive components.\n",
    "\n",
    "On the other hand, the ACF plot shows a significant spike at lag 2, suggesting a non-seasonal moving average component of order 2 (MA(2)). Furthermore, a spike at the seasonal lag (lag 12) also indicates the need to include a seasonal moving average component of order 1 (SMA(1)). "
   ]
  },
  {
   "cell_type": "markdown",
   "id": "23950a27",
   "metadata": {},
   "source": [
    "### ACF and PACF for the dataset with log and diff"
   ]
  },
  {
   "cell_type": "code",
   "execution_count": 25,
   "id": "28a04d0c",
   "metadata": {},
   "outputs": [
    {
     "data": {
      "image/png": "[encoded data removed]",
      "text/plain": [
       "<Figure size 1200x800 with 2 Axes>"
      ]
     },
     "metadata": {},
     "output_type": "display_data"
    }
   ],
   "source": [
    "# Create subplots\n",
    "fig, ax = plt.subplots(2, 1, figsize=(12, 8), sharex=True)\n",
    "\n",
    "# ACF plot\n",
    "sgt.plot_acf(\n",
    "    df_mod_log['log_PopEst'].diff().diff(12).dropna(),\n",
    "    ax=ax[0],\n",
    "    zero=False,\n",
    "    lags=30\n",
    ")\n",
    "ax[0].set_title(\"ACF - Monthly Differenced Log Population\", fontsize=14)\n",
    "ax[0].grid(True)\n",
    "\n",
    "\n",
    "# PACF plot\n",
    "sgt.plot_pacf(\n",
    "    df_mod_log['log_PopEst'].diff().diff(12).dropna(),\n",
    "    ax=ax[1],\n",
    "    zero=False,\n",
    "    lags=30,\n",
    "    method='ywm'\n",
    ")\n",
    "ax[1].set_title(\"PACF - Monthly Differenced Log Population\", fontsize=14)\n",
    "ax[1].grid(True)\n",
    "\n",
    "# Adjust layout\n",
    "plt.tight_layout()\n",
    "plt.show()"
   ]
  },
  {
   "cell_type": "markdown",
   "id": "8116f9f4",
   "metadata": {},
   "source": [
    "### SARIMA MODEL (0, 1, 0)(0, 1, 0)[12]"
   ]
  },
  {
   "cell_type": "code",
   "execution_count": 33,
   "id": "fb598786",
   "metadata": {},
   "outputs": [
    {
     "name": "stderr",
     "output_type": "stream",
     "text": [
      "c:\\Users\\fSIoF\\anaconda3\\envs\\timeseriesv2\\Lib\\site-packages\\statsmodels\\tsa\\base\\tsa_model.py:473: ValueWarning: No frequency information was provided, so inferred frequency MS will be used.\n",
      "  self._init_dates(dates, freq)\n",
      "c:\\Users\\fSIoF\\anaconda3\\envs\\timeseriesv2\\Lib\\site-packages\\statsmodels\\tsa\\base\\tsa_model.py:473: ValueWarning: No frequency information was provided, so inferred frequency MS will be used.\n",
      "  self._init_dates(dates, freq)\n",
      "c:\\Users\\fSIoF\\anaconda3\\envs\\timeseriesv2\\Lib\\site-packages\\statsmodels\\tsa\\base\\tsa_model.py:473: ValueWarning: No frequency information was provided, so inferred frequency MS will be used.\n",
      "  self._init_dates(dates, freq)\n"
     ]
    }
   ],
   "source": [
    "y_sarima = ARIMA(\n",
    "    df_mod_log['log_PopEst'].diff().diff(12).dropna(),\n",
    "    order=(0, 1, 0),\n",
    "    seasonal_order=(0, 1, 0, 12)\n",
    ")"
   ]
  },
  {
   "cell_type": "code",
   "execution_count": 34,
   "id": "6b2a27b8",
   "metadata": {},
   "outputs": [
    {
     "name": "stderr",
     "output_type": "stream",
     "text": [
      "c:\\Users\\fSIoF\\anaconda3\\envs\\timeseriesv2\\Lib\\site-packages\\statsmodels\\base\\model.py:607: ConvergenceWarning: Maximum Likelihood optimization failed to converge. Check mle_retvals\n",
      "  warnings.warn(\"Maximum Likelihood optimization failed to \"\n"
     ]
    }
   ],
   "source": [
    "# Make the prediction\n",
    "y_sarima_result = y_sarima.fit()"
   ]
  },
  {
   "cell_type": "code",
   "execution_count": 35,
   "id": "cf0126e8",
   "metadata": {},
   "outputs": [
    {
     "data": {
      "text/html": [
       "<table class=\"simpletable\">\n",
       "<caption>SARIMAX Results</caption>\n",
       "<tr>\n",
       "  <th>Dep. Variable:</th>            <td>log_PopEst</td>          <th>  No. Observations:  </th>    <td>82</td>    \n",
       "</tr>\n",
       "<tr>\n",
       "  <th>Model:</th>           <td>ARIMA(0, 1, 0)x(0, 1, 0, 12)</td> <th>  Log Likelihood     </th>  <td>621.248</td> \n",
       "</tr>\n",
       "<tr>\n",
       "  <th>Date:</th>                  <td>Fri, 18 Apr 2025</td>       <th>  AIC                </th> <td>-1240.496</td>\n",
       "</tr>\n",
       "<tr>\n",
       "  <th>Time:</th>                      <td>17:01:18</td>           <th>  BIC                </th> <td>-1238.262</td>\n",
       "</tr>\n",
       "<tr>\n",
       "  <th>Sample:</th>                   <td>03-01-2012</td>          <th>  HQIC               </th> <td>-1239.610</td>\n",
       "</tr>\n",
       "<tr>\n",
       "  <th></th>                         <td>- 12-01-2018</td>         <th>                     </th>     <td> </td>    \n",
       "</tr>\n",
       "<tr>\n",
       "  <th>Covariance Type:</th>              <td>opg</td>             <th>                     </th>     <td> </td>    \n",
       "</tr>\n",
       "</table>\n",
       "<table class=\"simpletable\">\n",
       "<tr>\n",
       "     <td></td>       <th>coef</th>     <th>std err</th>      <th>z</th>      <th>P>|z|</th>  <th>[0.025</th>    <th>0.975]</th>  \n",
       "</tr>\n",
       "<tr>\n",
       "  <th>sigma2</th> <td> 7.262e-10</td> <td> 3.51e-10</td> <td>    2.068</td> <td> 0.039</td> <td> 3.78e-11</td> <td> 1.41e-09</td>\n",
       "</tr>\n",
       "</table>\n",
       "<table class=\"simpletable\">\n",
       "<tr>\n",
       "  <th>Ljung-Box (L1) (Q):</th>     <td>2.10</td> <th>  Jarque-Bera (JB):  </th> <td>1.14</td>\n",
       "</tr>\n",
       "<tr>\n",
       "  <th>Prob(Q):</th>                <td>0.15</td> <th>  Prob(JB):          </th> <td>0.57</td>\n",
       "</tr>\n",
       "<tr>\n",
       "  <th>Heteroskedasticity (H):</th> <td>0.62</td> <th>  Skew:              </th> <td>0.00</td>\n",
       "</tr>\n",
       "<tr>\n",
       "  <th>Prob(H) (two-sided):</th>    <td>0.26</td> <th>  Kurtosis:          </th> <td>3.63</td>\n",
       "</tr>\n",
       "</table><br/><br/>Warnings:<br/>[1] Covariance matrix calculated using the outer product of gradients (complex-step)."
      ],
      "text/latex": [
       "\\begin{center}\n",
       "\\begin{tabular}{lclc}\n",
       "\\toprule\n",
       "\\textbf{Dep. Variable:}          &         log\\_PopEst          & \\textbf{  No. Observations:  } &     82      \\\\\n",
       "\\textbf{Model:}                  & ARIMA(0, 1, 0)x(0, 1, 0, 12) & \\textbf{  Log Likelihood     } &  621.248    \\\\\n",
       "\\textbf{Date:}                   &       Fri, 18 Apr 2025       & \\textbf{  AIC                } & -1240.496   \\\\\n",
       "\\textbf{Time:}                   &           17:01:18           & \\textbf{  BIC                } & -1238.262   \\\\\n",
       "\\textbf{Sample:}                 &          03-01-2012          & \\textbf{  HQIC               } & -1239.610   \\\\\n",
       "\\textbf{}                        &         - 12-01-2018         & \\textbf{                     } &             \\\\\n",
       "\\textbf{Covariance Type:}        &             opg              & \\textbf{                     } &             \\\\\n",
       "\\bottomrule\n",
       "\\end{tabular}\n",
       "\\begin{tabular}{lcccccc}\n",
       "                & \\textbf{coef} & \\textbf{std err} & \\textbf{z} & \\textbf{P$> |$z$|$} & \\textbf{[0.025} & \\textbf{0.975]}  \\\\\n",
       "\\midrule\n",
       "\\textbf{sigma2} &    7.262e-10  &     3.51e-10     &     2.068  &         0.039        &     3.78e-11    &     1.41e-09     \\\\\n",
       "\\bottomrule\n",
       "\\end{tabular}\n",
       "\\begin{tabular}{lclc}\n",
       "\\textbf{Ljung-Box (L1) (Q):}     & 2.10 & \\textbf{  Jarque-Bera (JB):  } & 1.14  \\\\\n",
       "\\textbf{Prob(Q):}                & 0.15 & \\textbf{  Prob(JB):          } & 0.57  \\\\\n",
       "\\textbf{Heteroskedasticity (H):} & 0.62 & \\textbf{  Skew:              } & 0.00  \\\\\n",
       "\\textbf{Prob(H) (two-sided):}    & 0.26 & \\textbf{  Kurtosis:          } & 3.63  \\\\\n",
       "\\bottomrule\n",
       "\\end{tabular}\n",
       "%\\caption{SARIMAX Results}\n",
       "\\end{center}\n",
       "\n",
       "Warnings: \\newline\n",
       " [1] Covariance matrix calculated using the outer product of gradients (complex-step)."
      ],
      "text/plain": [
       "<class 'statsmodels.iolib.summary.Summary'>\n",
       "\"\"\"\n",
       "                                    SARIMAX Results                                     \n",
       "========================================================================================\n",
       "Dep. Variable:                       log_PopEst   No. Observations:                   82\n",
       "Model:             ARIMA(0, 1, 0)x(0, 1, 0, 12)   Log Likelihood                 621.248\n",
       "Date:                          Fri, 18 Apr 2025   AIC                          -1240.496\n",
       "Time:                                  17:01:18   BIC                          -1238.262\n",
       "Sample:                              03-01-2012   HQIC                         -1239.610\n",
       "                                   - 12-01-2018                                         \n",
       "Covariance Type:                            opg                                         \n",
       "==============================================================================\n",
       "                 coef    std err          z      P>|z|      [0.025      0.975]\n",
       "------------------------------------------------------------------------------\n",
       "sigma2      7.262e-10   3.51e-10      2.068      0.039    3.78e-11    1.41e-09\n",
       "===================================================================================\n",
       "Ljung-Box (L1) (Q):                   2.10   Jarque-Bera (JB):                 1.14\n",
       "Prob(Q):                              0.15   Prob(JB):                         0.57\n",
       "Heteroskedasticity (H):               0.62   Skew:                             0.00\n",
       "Prob(H) (two-sided):                  0.26   Kurtosis:                         3.63\n",
       "===================================================================================\n",
       "\n",
       "Warnings:\n",
       "[1] Covariance matrix calculated using the outer product of gradients (complex-step).\n",
       "\"\"\""
      ]
     },
     "execution_count": 35,
     "metadata": {},
     "output_type": "execute_result"
    }
   ],
   "source": [
    "y_sarima_result.summary()"
   ]
  },
  {
   "cell_type": "markdown",
   "id": "f49ec2f0",
   "metadata": {},
   "source": [
    "### AUTOARIMA "
   ]
  },
  {
   "cell_type": "code",
   "execution_count": 38,
   "id": "a76c3493",
   "metadata": {},
   "outputs": [
    {
     "name": "stderr",
     "output_type": "stream",
     "text": [
      "c:\\Users\\fSIoF\\anaconda3\\envs\\timeseriesv2\\Lib\\site-packages\\sklearn\\utils\\deprecation.py:151: FutureWarning: 'force_all_finite' was renamed to 'ensure_all_finite' in 1.6 and will be removed in 1.8.\n",
      "  warnings.warn(\n",
      "c:\\Users\\fSIoF\\anaconda3\\envs\\timeseriesv2\\Lib\\site-packages\\sklearn\\utils\\deprecation.py:151: FutureWarning: 'force_all_finite' was renamed to 'ensure_all_finite' in 1.6 and will be removed in 1.8.\n",
      "  warnings.warn(\n",
      "c:\\Users\\fSIoF\\anaconda3\\envs\\timeseriesv2\\Lib\\site-packages\\sklearn\\utils\\deprecation.py:151: FutureWarning: 'force_all_finite' was renamed to 'ensure_all_finite' in 1.6 and will be removed in 1.8.\n",
      "  warnings.warn(\n",
      "c:\\Users\\fSIoF\\anaconda3\\envs\\timeseriesv2\\Lib\\site-packages\\sklearn\\utils\\deprecation.py:151: FutureWarning: 'force_all_finite' was renamed to 'ensure_all_finite' in 1.6 and will be removed in 1.8.\n",
      "  warnings.warn(\n",
      "c:\\Users\\fSIoF\\anaconda3\\envs\\timeseriesv2\\Lib\\site-packages\\sklearn\\utils\\deprecation.py:151: FutureWarning: 'force_all_finite' was renamed to 'ensure_all_finite' in 1.6 and will be removed in 1.8.\n",
      "  warnings.warn(\n",
      "c:\\Users\\fSIoF\\anaconda3\\envs\\timeseriesv2\\Lib\\site-packages\\sklearn\\utils\\deprecation.py:151: FutureWarning: 'force_all_finite' was renamed to 'ensure_all_finite' in 1.6 and will be removed in 1.8.\n",
      "  warnings.warn(\n",
      "c:\\Users\\fSIoF\\anaconda3\\envs\\timeseriesv2\\Lib\\site-packages\\sklearn\\utils\\deprecation.py:151: FutureWarning: 'force_all_finite' was renamed to 'ensure_all_finite' in 1.6 and will be removed in 1.8.\n",
      "  warnings.warn(\n",
      "c:\\Users\\fSIoF\\anaconda3\\envs\\timeseriesv2\\Lib\\site-packages\\sklearn\\utils\\deprecation.py:151: FutureWarning: 'force_all_finite' was renamed to 'ensure_all_finite' in 1.6 and will be removed in 1.8.\n",
      "  warnings.warn(\n",
      "c:\\Users\\fSIoF\\anaconda3\\envs\\timeseriesv2\\Lib\\site-packages\\sklearn\\utils\\deprecation.py:151: FutureWarning: 'force_all_finite' was renamed to 'ensure_all_finite' in 1.6 and will be removed in 1.8.\n",
      "  warnings.warn(\n"
     ]
    },
    {
     "name": "stdout",
     "output_type": "stream",
     "text": [
      "Performing stepwise search to minimize aic\n",
      " ARIMA(2,0,2)(0,0,0)[12] intercept   : AIC=631.390, Time=0.19 sec\n",
      " ARIMA(0,0,0)(0,0,0)[12] intercept   : AIC=877.172, Time=0.01 sec\n"
     ]
    },
    {
     "name": "stderr",
     "output_type": "stream",
     "text": [
      "c:\\Users\\fSIoF\\anaconda3\\envs\\timeseriesv2\\Lib\\site-packages\\sklearn\\utils\\deprecation.py:151: FutureWarning: 'force_all_finite' was renamed to 'ensure_all_finite' in 1.6 and will be removed in 1.8.\n",
      "  warnings.warn(\n"
     ]
    },
    {
     "name": "stdout",
     "output_type": "stream",
     "text": [
      " ARIMA(1,0,0)(1,0,0)[12] intercept   : AIC=inf, Time=0.24 sec\n",
      " ARIMA(0,0,1)(0,0,1)[12] intercept   : AIC=inf, Time=0.15 sec\n",
      " ARIMA(0,0,0)(0,0,0)[12]             : AIC=1262.705, Time=0.00 sec\n"
     ]
    },
    {
     "name": "stderr",
     "output_type": "stream",
     "text": [
      "c:\\Users\\fSIoF\\anaconda3\\envs\\timeseriesv2\\Lib\\site-packages\\sklearn\\utils\\deprecation.py:151: FutureWarning: 'force_all_finite' was renamed to 'ensure_all_finite' in 1.6 and will be removed in 1.8.\n",
      "  warnings.warn(\n",
      "c:\\Users\\fSIoF\\anaconda3\\envs\\timeseriesv2\\Lib\\site-packages\\sklearn\\utils\\deprecation.py:151: FutureWarning: 'force_all_finite' was renamed to 'ensure_all_finite' in 1.6 and will be removed in 1.8.\n",
      "  warnings.warn(\n",
      "c:\\Users\\fSIoF\\anaconda3\\envs\\timeseriesv2\\Lib\\site-packages\\sklearn\\utils\\deprecation.py:151: FutureWarning: 'force_all_finite' was renamed to 'ensure_all_finite' in 1.6 and will be removed in 1.8.\n",
      "  warnings.warn(\n"
     ]
    },
    {
     "name": "stdout",
     "output_type": "stream",
     "text": [
      " ARIMA(2,0,2)(1,0,0)[12] intercept   : AIC=596.280, Time=0.33 sec\n"
     ]
    },
    {
     "name": "stderr",
     "output_type": "stream",
     "text": [
      "c:\\Users\\fSIoF\\anaconda3\\envs\\timeseriesv2\\Lib\\site-packages\\sklearn\\utils\\deprecation.py:151: FutureWarning: 'force_all_finite' was renamed to 'ensure_all_finite' in 1.6 and will be removed in 1.8.\n",
      "  warnings.warn(\n"
     ]
    },
    {
     "name": "stdout",
     "output_type": "stream",
     "text": [
      " ARIMA(2,0,2)(2,0,0)[12] intercept   : AIC=599.541, Time=0.69 sec\n"
     ]
    },
    {
     "name": "stderr",
     "output_type": "stream",
     "text": [
      "c:\\Users\\fSIoF\\anaconda3\\envs\\timeseriesv2\\Lib\\site-packages\\sklearn\\utils\\deprecation.py:151: FutureWarning: 'force_all_finite' was renamed to 'ensure_all_finite' in 1.6 and will be removed in 1.8.\n",
      "  warnings.warn(\n"
     ]
    },
    {
     "name": "stdout",
     "output_type": "stream",
     "text": [
      " ARIMA(2,0,2)(1,0,1)[12] intercept   : AIC=598.626, Time=0.42 sec\n"
     ]
    },
    {
     "name": "stderr",
     "output_type": "stream",
     "text": [
      "c:\\Users\\fSIoF\\anaconda3\\envs\\timeseriesv2\\Lib\\site-packages\\sklearn\\utils\\deprecation.py:151: FutureWarning: 'force_all_finite' was renamed to 'ensure_all_finite' in 1.6 and will be removed in 1.8.\n",
      "  warnings.warn(\n"
     ]
    },
    {
     "name": "stdout",
     "output_type": "stream",
     "text": [
      " ARIMA(2,0,2)(0,0,1)[12] intercept   : AIC=607.879, Time=0.31 sec\n"
     ]
    },
    {
     "name": "stderr",
     "output_type": "stream",
     "text": [
      "c:\\Users\\fSIoF\\anaconda3\\envs\\timeseriesv2\\Lib\\site-packages\\sklearn\\utils\\deprecation.py:151: FutureWarning: 'force_all_finite' was renamed to 'ensure_all_finite' in 1.6 and will be removed in 1.8.\n",
      "  warnings.warn(\n"
     ]
    },
    {
     "name": "stdout",
     "output_type": "stream",
     "text": [
      " ARIMA(2,0,2)(2,0,1)[12] intercept   : AIC=inf, Time=0.75 sec\n"
     ]
    },
    {
     "name": "stderr",
     "output_type": "stream",
     "text": [
      "c:\\Users\\fSIoF\\anaconda3\\envs\\timeseriesv2\\Lib\\site-packages\\sklearn\\utils\\deprecation.py:151: FutureWarning: 'force_all_finite' was renamed to 'ensure_all_finite' in 1.6 and will be removed in 1.8.\n",
      "  warnings.warn(\n"
     ]
    },
    {
     "name": "stdout",
     "output_type": "stream",
     "text": [
      " ARIMA(1,0,2)(1,0,0)[12] intercept   : AIC=579.449, Time=0.31 sec\n",
      " ARIMA(1,0,2)(0,0,0)[12] intercept   : AIC=663.122, Time=0.08 sec\n"
     ]
    },
    {
     "name": "stderr",
     "output_type": "stream",
     "text": [
      "c:\\Users\\fSIoF\\anaconda3\\envs\\timeseriesv2\\Lib\\site-packages\\sklearn\\utils\\deprecation.py:151: FutureWarning: 'force_all_finite' was renamed to 'ensure_all_finite' in 1.6 and will be removed in 1.8.\n",
      "  warnings.warn(\n",
      "c:\\Users\\fSIoF\\anaconda3\\envs\\timeseriesv2\\Lib\\site-packages\\sklearn\\utils\\deprecation.py:151: FutureWarning: 'force_all_finite' was renamed to 'ensure_all_finite' in 1.6 and will be removed in 1.8.\n",
      "  warnings.warn(\n"
     ]
    },
    {
     "name": "stdout",
     "output_type": "stream",
     "text": [
      " ARIMA(1,0,2)(2,0,0)[12] intercept   : AIC=585.439, Time=0.55 sec\n"
     ]
    },
    {
     "name": "stderr",
     "output_type": "stream",
     "text": [
      "c:\\Users\\fSIoF\\anaconda3\\envs\\timeseriesv2\\Lib\\site-packages\\sklearn\\utils\\deprecation.py:151: FutureWarning: 'force_all_finite' was renamed to 'ensure_all_finite' in 1.6 and will be removed in 1.8.\n",
      "  warnings.warn(\n"
     ]
    },
    {
     "name": "stdout",
     "output_type": "stream",
     "text": [
      " ARIMA(1,0,2)(1,0,1)[12] intercept   : AIC=585.500, Time=0.48 sec\n",
      " ARIMA(1,0,2)(0,0,1)[12] intercept   : AIC=628.477, Time=0.19 sec\n"
     ]
    },
    {
     "name": "stderr",
     "output_type": "stream",
     "text": [
      "c:\\Users\\fSIoF\\anaconda3\\envs\\timeseriesv2\\Lib\\site-packages\\sklearn\\utils\\deprecation.py:151: FutureWarning: 'force_all_finite' was renamed to 'ensure_all_finite' in 1.6 and will be removed in 1.8.\n",
      "  warnings.warn(\n",
      "c:\\Users\\fSIoF\\anaconda3\\envs\\timeseriesv2\\Lib\\site-packages\\sklearn\\utils\\deprecation.py:151: FutureWarning: 'force_all_finite' was renamed to 'ensure_all_finite' in 1.6 and will be removed in 1.8.\n",
      "  warnings.warn(\n"
     ]
    },
    {
     "name": "stdout",
     "output_type": "stream",
     "text": [
      " ARIMA(1,0,2)(2,0,1)[12] intercept   : AIC=inf, Time=0.78 sec\n"
     ]
    },
    {
     "name": "stderr",
     "output_type": "stream",
     "text": [
      "c:\\Users\\fSIoF\\anaconda3\\envs\\timeseriesv2\\Lib\\site-packages\\sklearn\\utils\\deprecation.py:151: FutureWarning: 'force_all_finite' was renamed to 'ensure_all_finite' in 1.6 and will be removed in 1.8.\n",
      "  warnings.warn(\n"
     ]
    },
    {
     "name": "stdout",
     "output_type": "stream",
     "text": [
      " ARIMA(0,0,2)(1,0,0)[12] intercept   : AIC=652.702, Time=0.29 sec\n",
      " ARIMA(1,0,1)(1,0,0)[12] intercept   : AIC=inf, Time=0.17 sec\n"
     ]
    },
    {
     "name": "stderr",
     "output_type": "stream",
     "text": [
      "c:\\Users\\fSIoF\\anaconda3\\envs\\timeseriesv2\\Lib\\site-packages\\sklearn\\utils\\deprecation.py:151: FutureWarning: 'force_all_finite' was renamed to 'ensure_all_finite' in 1.6 and will be removed in 1.8.\n",
      "  warnings.warn(\n",
      "c:\\Users\\fSIoF\\anaconda3\\envs\\timeseriesv2\\Lib\\site-packages\\sklearn\\utils\\deprecation.py:151: FutureWarning: 'force_all_finite' was renamed to 'ensure_all_finite' in 1.6 and will be removed in 1.8.\n",
      "  warnings.warn(\n"
     ]
    },
    {
     "name": "stdout",
     "output_type": "stream",
     "text": [
      " ARIMA(1,0,3)(1,0,0)[12] intercept   : AIC=inf, Time=0.40 sec\n"
     ]
    },
    {
     "name": "stderr",
     "output_type": "stream",
     "text": [
      "c:\\Users\\fSIoF\\anaconda3\\envs\\timeseriesv2\\Lib\\site-packages\\sklearn\\utils\\deprecation.py:151: FutureWarning: 'force_all_finite' was renamed to 'ensure_all_finite' in 1.6 and will be removed in 1.8.\n",
      "  warnings.warn(\n"
     ]
    },
    {
     "name": "stdout",
     "output_type": "stream",
     "text": [
      " ARIMA(0,0,1)(1,0,0)[12] intercept   : AIC=inf, Time=0.23 sec\n"
     ]
    },
    {
     "name": "stderr",
     "output_type": "stream",
     "text": [
      "c:\\Users\\fSIoF\\anaconda3\\envs\\timeseriesv2\\Lib\\site-packages\\sklearn\\utils\\deprecation.py:151: FutureWarning: 'force_all_finite' was renamed to 'ensure_all_finite' in 1.6 and will be removed in 1.8.\n",
      "  warnings.warn(\n"
     ]
    },
    {
     "name": "stdout",
     "output_type": "stream",
     "text": [
      " ARIMA(0,0,3)(1,0,0)[12] intercept   : AIC=inf, Time=0.37 sec\n"
     ]
    },
    {
     "name": "stderr",
     "output_type": "stream",
     "text": [
      "c:\\Users\\fSIoF\\anaconda3\\envs\\timeseriesv2\\Lib\\site-packages\\sklearn\\utils\\deprecation.py:151: FutureWarning: 'force_all_finite' was renamed to 'ensure_all_finite' in 1.6 and will be removed in 1.8.\n",
      "  warnings.warn(\n"
     ]
    },
    {
     "name": "stdout",
     "output_type": "stream",
     "text": [
      " ARIMA(2,0,1)(1,0,0)[12] intercept   : AIC=620.087, Time=0.33 sec\n"
     ]
    },
    {
     "name": "stderr",
     "output_type": "stream",
     "text": [
      "c:\\Users\\fSIoF\\anaconda3\\envs\\timeseriesv2\\Lib\\site-packages\\sklearn\\utils\\deprecation.py:151: FutureWarning: 'force_all_finite' was renamed to 'ensure_all_finite' in 1.6 and will be removed in 1.8.\n",
      "  warnings.warn(\n"
     ]
    },
    {
     "name": "stdout",
     "output_type": "stream",
     "text": [
      " ARIMA(2,0,3)(1,0,0)[12] intercept   : AIC=inf, Time=0.37 sec\n",
      " ARIMA(1,0,2)(1,0,0)[12]             : AIC=595.262, Time=0.15 sec\n",
      "\n",
      "Best model:  ARIMA(1,0,2)(1,0,0)[12] intercept\n",
      "Total fit time: 7.816 seconds\n"
     ]
    },
    {
     "name": "stderr",
     "output_type": "stream",
     "text": [
      "c:\\Users\\fSIoF\\anaconda3\\envs\\timeseriesv2\\Lib\\site-packages\\sklearn\\utils\\deprecation.py:151: FutureWarning: 'force_all_finite' was renamed to 'ensure_all_finite' in 1.6 and will be removed in 1.8.\n",
      "  warnings.warn(\n"
     ]
    }
   ],
   "source": [
    "from pmdarima import auto_arima\n",
    "\n",
    "stepwise_model = auto_arima(\n",
    "    df_mod['PopEst'].diff().dropna(),\n",
    "    seasonal=True,\n",
    "    m=12,            # seasonal period\n",
    "    trace=True,\n",
    "    max_p=3,\n",
    "    max_q=3,\n",
    "    max_P=2,\n",
    "    max_Q=2,\n",
    "    d=None,          \n",
    "    D=None,\n",
    "    start_P=0,\n",
    "    start_Q=0,\n",
    "    error_action='ignore',\n",
    "    suppress_warnings=True,\n",
    "    stepwise=True\n",
    ")\n"
   ]
  }
 ],
 "metadata": {
  "kernelspec": {
   "display_name": "timeseriesv2",
   "language": "python",
   "name": "python3"
  },
  "language_info": {
   "codemirror_mode": {
    "name": "ipython",
    "version": 3
   },
   "file_extension": ".py",
   "mimetype": "text/x-python",
   "name": "python",
   "nbconvert_exporter": "python",
   "pygments_lexer": "ipython3",
   "version": "3.12.10"
  }
 },
 "nbformat": 4,
 "nbformat_minor": 5
}
